{
 "cells": [
  {
   "cell_type": "code",
   "execution_count": 1,
   "id": "903e58f5-4a35-4a2e-bf78-474fdb7a6cce",
   "metadata": {},
   "outputs": [],
   "source": [
    "import requests\n",
    "from bs4 import BeautifulSoup"
   ]
  },
  {
   "cell_type": "code",
   "execution_count": null,
   "id": "3e2c421c-0d4a-4ba2-8209-c3117ba6712c",
   "metadata": {},
   "outputs": [],
   "source": [
    "def get_links_from_url(url):\n",
    "    response = re"
   ]
  }
 ],
 "metadata": {
  "kernelspec": {
   "display_name": "Python 3 (ipykernel)",
   "language": "python",
   "name": "python3"
  },
  "language_info": {
   "codemirror_mode": {
    "name": "ipython",
    "version": 3
   },
   "file_extension": ".py",
   "mimetype": "text/x-python",
   "name": "python",
   "nbconvert_exporter": "python",
   "pygments_lexer": "ipython3",
   "version": "3.9.18"
  }
 },
 "nbformat": 4,
 "nbformat_minor": 5
}
