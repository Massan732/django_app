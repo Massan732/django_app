{
 "cells": [
  {
   "cell_type": "code",
   "execution_count": 180,
   "id": "9c57bc7c-40e8-48e3-ba70-cb729671effe",
   "metadata": {},
   "outputs": [],
   "source": [
    "import pandas as pd\n",
    "import matplotlib\n",
    "import matplotlib.pyplot as plt\n",
    "import japanize_matplotlib"
   ]
  },
  {
   "cell_type": "code",
   "execution_count": 159,
   "id": "95a3bbcf-6e10-4725-a778-2b0e9437bbfc",
   "metadata": {},
   "outputs": [
    {
     "name": "stderr",
     "output_type": "stream",
     "text": [
      "/tmp/ipykernel_27/361523138.py:1: DtypeWarning:\n",
      "\n",
      "Columns (5,13,30,34,38,39,40,42,45,74) have mixed types. Specify dtype option on import or set low_memory=False.\n",
      "\n"
     ]
    }
   ],
   "source": [
    "df = pd.read_csv(\"テストデータ.csv\", encoding=\"cp932\")"
   ]
  },
  {
   "cell_type": "code",
   "execution_count": 160,
   "id": "65972906-2da4-40a2-9ad7-85a5d17f0716",
   "metadata": {},
   "outputs": [],
   "source": [
    "df['金額'] = df['金額'].fillna(0).str.replace(\"nan\",\"0\")"
   ]
  },
  {
   "cell_type": "code",
   "execution_count": 161,
   "id": "fa709038-ac40-41f1-87d1-5c69b4971221",
   "metadata": {},
   "outputs": [],
   "source": [
    "df['金額'] = df[\"金額\"].str.replace(',', '').astype(float)"
   ]
  },
  {
   "cell_type": "code",
   "execution_count": 162,
   "id": "076a3094-a6f8-4466-8017-55830f8b97d4",
   "metadata": {},
   "outputs": [],
   "source": [
    "date_filter = df.groupby([\"取引先\"]).agg({\"金額\":\"sum\"}).reset_index()"
   ]
  },
  {
   "cell_type": "code",
   "execution_count": 183,
   "id": "a697eb0a-d7fb-4194-a7aa-6a4ce0618333",
   "metadata": {},
   "outputs": [],
   "source": [
    "date_filter = date_filter.sort_values(by='金額')"
   ]
  },
  {
   "cell_type": "code",
   "execution_count": 184,
   "id": "ea0749df-29b2-4c00-8725-4dd3b9b9654c",
   "metadata": {},
   "outputs": [
    {
     "name": "stderr",
     "output_type": "stream",
     "text": [
      "findfont: Generic family 'sans-serif' not found because none of the following families were found: Noto Sans CJK JP\n",
      "findfont: Generic family 'sans-serif' not found because none of the following families were found: Noto Sans CJK JP\n",
      "findfont: Generic family 'sans-serif' not found because none of the following families were found: Noto Sans CJK JP\n",
      "findfont: Generic family 'sans-serif' not found because none of the following families were found: Noto Sans CJK JP\n",
      "findfont: Generic family 'sans-serif' not found because none of the following families were found: Noto Sans CJK JP\n",
      "findfont: Generic family 'sans-serif' not found because none of the following families were found: Noto Sans CJK JP\n",
      "findfont: Generic family 'sans-serif' not found because none of the following families were found: Noto Sans CJK JP\n",
      "findfont: Generic family 'sans-serif' not found because none of the following families were found: Noto Sans CJK JP\n",
      "findfont: Generic family 'sans-serif' not found because none of the following families were found: Noto Sans CJK JP\n",
      "findfont: Generic family 'sans-serif' not found because none of the following families were found: Noto Sans CJK JP\n",
      "/root/.cache/pypoetry/virtualenvs/jupyter-analysis-fN-W4g9T-py3.9/lib/python3.9/site-packages/IPython/core/events.py:93: UserWarning:\n",
      "\n",
      "Glyph 36600 (\\N{CJK UNIFIED IDEOGRAPH-8EF8}) missing from current font.\n",
      "\n",
      "/root/.cache/pypoetry/virtualenvs/jupyter-analysis-fN-W4g9T-py3.9/lib/python3.9/site-packages/IPython/core/events.py:93: UserWarning:\n",
      "\n",
      "Glyph 12521 (\\N{KATAKANA LETTER RA}) missing from current font.\n",
      "\n",
      "/root/.cache/pypoetry/virtualenvs/jupyter-analysis-fN-W4g9T-py3.9/lib/python3.9/site-packages/IPython/core/events.py:93: UserWarning:\n",
      "\n",
      "Glyph 12505 (\\N{KATAKANA LETTER BE}) missing from current font.\n",
      "\n",
      "/root/.cache/pypoetry/virtualenvs/jupyter-analysis-fN-W4g9T-py3.9/lib/python3.9/site-packages/IPython/core/events.py:93: UserWarning:\n",
      "\n",
      "Glyph 12523 (\\N{KATAKANA LETTER RU}) missing from current font.\n",
      "\n",
      "/root/.cache/pypoetry/virtualenvs/jupyter-analysis-fN-W4g9T-py3.9/lib/python3.9/site-packages/IPython/core/events.py:93: UserWarning:\n",
      "\n",
      "Glyph 21517 (\\N{CJK UNIFIED IDEOGRAPH-540D}) missing from current font.\n",
      "\n",
      "findfont: Generic family 'sans-serif' not found because none of the following families were found: Noto Sans CJK JP\n",
      "findfont: Generic family 'sans-serif' not found because none of the following families were found: Noto Sans CJK JP\n",
      "/root/.cache/pypoetry/virtualenvs/jupyter-analysis-fN-W4g9T-py3.9/lib/python3.9/site-packages/IPython/core/events.py:93: UserWarning:\n",
      "\n",
      "Glyph 12464 (\\N{KATAKANA LETTER GU}) missing from current font.\n",
      "\n",
      "/root/.cache/pypoetry/virtualenvs/jupyter-analysis-fN-W4g9T-py3.9/lib/python3.9/site-packages/IPython/core/events.py:93: UserWarning:\n",
      "\n",
      "Glyph 12501 (\\N{KATAKANA LETTER HU}) missing from current font.\n",
      "\n",
      "/root/.cache/pypoetry/virtualenvs/jupyter-analysis-fN-W4g9T-py3.9/lib/python3.9/site-packages/IPython/core/events.py:93: UserWarning:\n",
      "\n",
      "Glyph 12479 (\\N{KATAKANA LETTER TA}) missing from current font.\n",
      "\n",
      "/root/.cache/pypoetry/virtualenvs/jupyter-analysis-fN-W4g9T-py3.9/lib/python3.9/site-packages/IPython/core/events.py:93: UserWarning:\n",
      "\n",
      "Glyph 12452 (\\N{KATAKANA LETTER I}) missing from current font.\n",
      "\n",
      "/root/.cache/pypoetry/virtualenvs/jupyter-analysis-fN-W4g9T-py3.9/lib/python3.9/site-packages/IPython/core/events.py:93: UserWarning:\n",
      "\n",
      "Glyph 12488 (\\N{KATAKANA LETTER TO}) missing from current font.\n",
      "\n",
      "findfont: Generic family 'sans-serif' not found because none of the following families were found: Noto Sans CJK JP\n"
     ]
    }
   ],
   "source": [
    "# 二次曲線のプロット作成\n",
    "plt.plot(date_filter[\"取引先\"], date_filter[\"金額\"], label=\"棒\")\n",
    " \n",
    "# タイトル・軸ラベル表示\n",
    "plt.title(\"グラフタイトル\")\n",
    "plt.xlabel(\"x軸ラベル名\")\n",
    "plt.ylabel(\"y軸ラベル名\")\n",
    " \n",
    "# グラフ内テキスト表示\n",
    "plt.text(0, 4,\"テキスト例\")\n",
    " \n",
    "# 凡例表示\n",
    "plt.legend()\n",
    " \n",
    "plt.show()"
   ]
  },
  {
   "cell_type": "code",
   "execution_count": 181,
   "id": "1d024751-17cf-41bd-b2f3-d19b1d828053",
   "metadata": {},
   "outputs": [],
   "source": [
    "import numpy as np\n",
    "a = np.linspace(0,10,100)\n",
    "b = np.exp(-a)\n",
    "plt.plot(a,b)\n",
    "plt.show()"
   ]
  },
  {
   "cell_type": "code",
   "execution_count": 182,
   "id": "b838ced6-2606-473b-9e7a-ed069d0f8156",
   "metadata": {},
   "outputs": [
    {
     "name": "stdout",
     "output_type": "stream",
     "text": [
      "{'DejaVu Serif Display', 'cmss10', 'cmmi10', 'cmsy10', 'STIXSizeThreeSym', 'IPAexGothic', 'cmb10', 'DejaVu Sans Mono', 'STIXSizeFourSym', 'DejaVu Serif', 'DejaVu Sans Display', 'cmr10', 'STIXNonUnicode', 'STIXSizeTwoSym', 'STIXSizeFiveSym', 'DejaVu Sans', 'cmtt10', 'STIXSizeOneSym', 'cmex10', 'STIXGeneral'}\n"
     ]
    }
   ],
   "source": [
    "fonts = set([f.name for f in matplotlib.font_manager.fontManager.ttflist])\n",
    "print(fonts)"
   ]
  },
  {
   "cell_type": "code",
   "execution_count": null,
   "id": "57e2adda-1877-4d9b-8998-fa2d62b0a5e8",
   "metadata": {},
   "outputs": [],
   "source": []
  }
 ],
 "metadata": {
  "kernelspec": {
   "display_name": "Python 3 (ipykernel)",
   "language": "python",
   "name": "python3"
  },
  "language_info": {
   "codemirror_mode": {
    "name": "ipython",
    "version": 3
   },
   "file_extension": ".py",
   "mimetype": "text/x-python",
   "name": "python",
   "nbconvert_exporter": "python",
   "pygments_lexer": "ipython3",
   "version": "3.9.18"
  }
 },
 "nbformat": 4,
 "nbformat_minor": 5
}
