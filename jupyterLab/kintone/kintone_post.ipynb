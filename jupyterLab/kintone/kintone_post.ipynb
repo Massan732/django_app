{
 "cells": [
  {
   "cell_type": "code",
   "execution_count": 48,
   "id": "1b829044-490e-401a-ad90-c81a42530b7a",
   "metadata": {},
   "outputs": [],
   "source": [
    "import json\n",
    "import requests\n",
    "import pandas as pd\n",
    "from dataclasses import dataclass\n",
    "from datetime import datetime, date\n",
    "import time"
   ]
  },
  {
   "cell_type": "code",
   "execution_count": 49,
   "id": "41f36e78-a612-4822-baf8-14d200bce59e",
   "metadata": {},
   "outputs": [],
   "source": [
    "@dataclass\n",
    "class Record:\n",
    "    date: date\n",
    "    start_time: time\n",
    "    end_time: time\n",
    "    action_kind: str\n",
    "    customer_code: str\n",
    "    customer_name: str\n",
    "    reason_sales: int\n",
    "    reason_greeting: int\n",
    "    reason_accompany: int\n",
    "    reason_digging: int\n",
    "    reason_collection: int\n",
    "    reason_collection_item: int\n",
    "    reason_collection_delivery: int\n",
    "    reason_claim: int\n",
    "    achievements: str"
   ]
  },
  {
   "cell_type": "code",
   "execution_count": 50,
   "id": "b4b63910-89ad-4d04-9032-c6f04ff78180",
   "metadata": {},
   "outputs": [],
   "source": [
    "class PostAPI:\n",
    "    def __init__(self, sub_domain=\"nose-sus.cybozu.com\", api_token=\"bdWmuZ7K9YsiQ7JbVUzuttcsJwkK7f4VqKWPW82C\"):\n",
    "        self.sub_domain = sub_domain\n",
    "        self.api_token = api_token\n",
    "        self.headers = {\n",
    "            \"Content-Type\": \"application/json\",\n",
    "            \"X-Cybozu-API-Token\": api_token\n",
    "        }\n",
    "\n",
    "    def post_records(self, data):\n",
    "        print(record_data)\n",
    "        # kintone APIにPOSTリクエストを送信してデータを追加\n",
    "        response = requests.post(f\"https://{self.sub_domain}/k/v1/record.json\", headers=self.headers, json=data)\n",
    "        request_info = response.request\n",
    "        print(\"HTTPメソッド:\", request_info.method)\n",
    "        print(\"URL:\", request_info.url)\n",
    "        print(\"リクエストヘッダ:\", request_info.headers)\n",
    "        print(\"リクエストボディ:\", request_info.body)\n",
    "        \n",
    "        return response\n",
    "\n",
    "    \n",
    "    def call(self):\n",
    "        print(self.sub_domain)\n",
    "    \n",
    "    def main(self, df):\n",
    "\n",
    "        \"\"\"\n",
    "        1度に処理できるレコードは100レコードのため、1回あたり100レコード未満になるようにリストを分割する\n",
    "        \"\"\"\n",
    "        n = -(-len(self.ind_data()) // 100)  # リスト総数÷100の切り上げ\n",
    "        split_list = np.array_split(self.ind_data(), n)\n",
    "        done_count = 0\n",
    "        for splited in split_list:\n",
    "            self.send_post(splited.tolist())\n",
    "            done_count += len(splited)\n",
    "            print(f\"\\r{done_count}/{len(self.ind_data())} records done.\", end=\"\")\n",
    "\n",
    "        \n",
    "        # 追加するデータ\n",
    "        data = {\n",
    "            \"app\": self.app_id,  # アプリのID\n",
    "            \"record\": {\n",
    "                \"フィールド1\": \"値1\",\n",
    "                \"フィールド2\": \"値2\",\n",
    "                # 追加するフィールドと値を指定\n",
    "            }\n",
    "        }\n",
    "        \n",
    "        \n",
    "        \n",
    "        if response.status_code == 201:\n",
    "            print(\"データが正常に追加されました。\")\n",
    "        else:\n",
    "            print(\"データの追加に失敗しました。\")"
   ]
  },
  {
   "cell_type": "code",
   "execution_count": 51,
   "id": "338c259d-9db1-4ed6-bd3c-fee93438044b",
   "metadata": {},
   "outputs": [],
   "source": [
    "df = pd.read_csv(\"update_sales.csv\", encoding=\"cp932\")\n",
    "df = df.fillna(\" \")"
   ]
  },
  {
   "cell_type": "code",
   "execution_count": 57,
   "id": "1bafdfdb-17c7-47f2-a157-321060e89b3e",
   "metadata": {},
   "outputs": [
    {
     "name": "stdout",
     "output_type": "stream",
     "text": [
      "{'app': 189, 'record': {'日付': {'value': '2023-10-19'}, '開始時刻': {'value': '13:00'}, '終了時刻': {'value': '14:00'}, '行動種類': {'value': '(既存)得意先'}, '既存顧客検索': {'value': '65006 / ホソカワミクロン㈱'}, '既存顧客名': {'value': 'ホソカワミクロン㈱'}, '訪問目的[商談]': {'value': ' '}, '訪問目的[挨拶]': {'value': 1.0}, '訪問目的[同行営業]': {'value': ' '}, '訪問目的[掘り起こし]': {'value': ' '}, '訪問目的[集金]': {'value': ' '}, '訪問目的[引き取り]': {'value': ' '}, '訪問目的[納品・配達]': {'value': ' '}, '訪問目的[クレーム対応]': {'value': ' '}, '訪問の成果': {'value': '0'}}}\n",
      "{'app': 189, 'record': {'日付': {'value': '2023-10-19'}, '開始時刻': {'value': '13:00'}, '終了時刻': {'value': '14:00'}, '行動種類': {'value': '(既存)得意先'}, '既存顧客検索': {'value': '65006 / ホソカワミクロン㈱'}, '既存顧客名': {'value': 'ホソカワミクロン㈱'}, '訪問目的[商談]': {'value': ' '}, '訪問目的[挨拶]': {'value': 1.0}, '訪問目的[同行営業]': {'value': ' '}, '訪問目的[掘り起こし]': {'value': ' '}, '訪問目的[集金]': {'value': ' '}, '訪問目的[引き取り]': {'value': ' '}, '訪問目的[納品・配達]': {'value': ' '}, '訪問目的[クレーム対応]': {'value': ' '}, '訪問の成果': {'value': '0'}}}\n",
      "HTTPメソッド: POST\n",
      "URL: https://nose-sus.cybozu.com/k/v1/record.json\n",
      "リクエストヘッダ: {'User-Agent': 'python-requests/2.31.0', 'Accept-Encoding': 'gzip, deflate', 'Accept': '*/*', 'Connection': 'keep-alive', 'Content-Type': 'application/json', 'X-Cybozu-API-Token': 'bdWmuZ7K9YsiQ7JbVUzuttcsJwkK7f4VqKWPW82C', 'Content-Length': '1054'}\n",
      "リクエストボディ: b'{\"app\": 189, \"record\": {\"\\\\u65e5\\\\u4ed8\": {\"value\": \"2023-10-19\"}, \"\\\\u958b\\\\u59cb\\\\u6642\\\\u523b\": {\"value\": \"13:00\"}, \"\\\\u7d42\\\\u4e86\\\\u6642\\\\u523b\": {\"value\": \"14:00\"}, \"\\\\u884c\\\\u52d5\\\\u7a2e\\\\u985e\": {\"value\": \"(\\\\u65e2\\\\u5b58)\\\\u5f97\\\\u610f\\\\u5148\"}, \"\\\\u65e2\\\\u5b58\\\\u9867\\\\u5ba2\\\\u691c\\\\u7d22\": {\"value\": \"65006 / \\\\u30db\\\\u30bd\\\\u30ab\\\\u30ef\\\\u30df\\\\u30af\\\\u30ed\\\\u30f3\\\\u3231\"}, \"\\\\u65e2\\\\u5b58\\\\u9867\\\\u5ba2\\\\u540d\": {\"value\": \"\\\\u30db\\\\u30bd\\\\u30ab\\\\u30ef\\\\u30df\\\\u30af\\\\u30ed\\\\u30f3\\\\u3231\"}, \"\\\\u8a2a\\\\u554f\\\\u76ee\\\\u7684[\\\\u5546\\\\u8ac7]\": {\"value\": \" \"}, \"\\\\u8a2a\\\\u554f\\\\u76ee\\\\u7684[\\\\u6328\\\\u62f6]\": {\"value\": 1.0}, \"\\\\u8a2a\\\\u554f\\\\u76ee\\\\u7684[\\\\u540c\\\\u884c\\\\u55b6\\\\u696d]\": {\"value\": \" \"}, \"\\\\u8a2a\\\\u554f\\\\u76ee\\\\u7684[\\\\u6398\\\\u308a\\\\u8d77\\\\u3053\\\\u3057]\": {\"value\": \" \"}, \"\\\\u8a2a\\\\u554f\\\\u76ee\\\\u7684[\\\\u96c6\\\\u91d1]\": {\"value\": \" \"}, \"\\\\u8a2a\\\\u554f\\\\u76ee\\\\u7684[\\\\u5f15\\\\u304d\\\\u53d6\\\\u308a]\": {\"value\": \" \"}, \"\\\\u8a2a\\\\u554f\\\\u76ee\\\\u7684[\\\\u7d0d\\\\u54c1\\\\u30fb\\\\u914d\\\\u9054]\": {\"value\": \" \"}, \"\\\\u8a2a\\\\u554f\\\\u76ee\\\\u7684[\\\\u30af\\\\u30ec\\\\u30fc\\\\u30e0\\\\u5bfe\\\\u5fdc]\": {\"value\": \" \"}, \"\\\\u8a2a\\\\u554f\\\\u306e\\\\u6210\\\\u679c\": {\"value\": \"0\"}}}'\n",
      "<Response [520]>\n",
      "{'code': 'GAIA_LO04', 'id': 'XerxEGPNCusmoHvuANiW', 'message': 'フィールド「既存顧客検索」の値「65006 / ホソカワミクロン㈱」が、ルックアップの参照先のフィールドにないか、またはアプリやフィールドの閲覧権限がありません。'}\n"
     ]
    }
   ],
   "source": [
    "poster = PostAPI()\n",
    "for index, row in df.iterrows():\n",
    "    \n",
    "    record = {\n",
    "        \"日付\": {\"value\": row[\"日付\"].replace(\"/\", \"-\")},\n",
    "        \"開始時刻\": {\"value\": row[\"開始時刻\"]},\n",
    "        \"終了時刻\": {\"value\": row[\"終了時刻\"]},\n",
    "        \"行動種類\": {\"value\": row[\"行動種類\"]},\n",
    "        \"既存顧客検索\": {\"value\": f'{row[\"取引先コード\"]} / {row[\"取引先名\"]}'},\n",
    "        \"既存顧客名\": {\"value\": row[\"取引先名\"]},\n",
    "        \"訪問目的[商談]\": {\"value\": row[\"訪問目的[商談]\"]},\n",
    "        \"訪問目的[挨拶]\": {\"value\": row[\"訪問目的[挨拶]\"]},\n",
    "        \"訪問目的[同行営業]\": {\"value\": row[\"訪問目的[同行営業]\"]},\n",
    "        \"訪問目的[掘り起こし]\": {\"value\": row[\"訪問目的[掘り起こし]\"]},\n",
    "        \"訪問目的[集金]\": {\"value\": row[\"訪問目的[集金]\"]},\n",
    "        \"訪問目的[引き取り]\": {\"value\": row[\"訪問目的[引き取り]\"]},\n",
    "        \"訪問目的[納品・配達]\": {\"value\": row[\"訪問目的[納品・配達]\"]},\n",
    "        \"訪問目的[クレーム対応]\": {\"value\": row[\"訪問目的[クレーム対応]\"]},\n",
    "        \"訪問の成果\": {\"value\": row[\"成果・その他コメント\"]}\n",
    "    }\n",
    "    #record = json.dumps(record)\n",
    "    record_data = {\n",
    "        \"app\": 189,  # アプリのID\n",
    "        \"record\": record        \n",
    "    }\n",
    "    print(record_data)\n",
    "    result = poster.post_records(record_data)\n",
    "    print(result)\n",
    "    print(result.json())\n",
    "    break"
   ]
  },
  {
   "cell_type": "code",
   "execution_count": 19,
   "id": "3da1cf37-98de-4c15-a085-7aa14eafa25c",
   "metadata": {},
   "outputs": [
    {
     "name": "stdout",
     "output_type": "stream",
     "text": [
      "nose-sus.cybozu.com\n"
     ]
    }
   ],
   "source": [
    "poster.call()"
   ]
  },
  {
   "cell_type": "code",
   "execution_count": 56,
   "id": "63bac222-bce7-4985-aeb2-c610832cf24a",
   "metadata": {},
   "outputs": [],
   "source": [
    "records = []\n",
    "for index, row in df.iterrows():\n",
    "    record = Record(\n",
    "        row[\"日付\"],\n",
    "        row[\"開始時刻\"],\n",
    "        row[\"終了時刻\"],\n",
    "        row[\"行動種類\"],\n",
    "        row[\"取引先コード\"],\n",
    "        row[\"取引先名\"],\n",
    "        row[\"訪問目的[商談]\"],\n",
    "        row[\"訪問目的[挨拶]\"],\n",
    "        row[\"訪問目的[同行営業]\"],\n",
    "        row[\"訪問目的[掘り起こし]\"],\n",
    "        row[\"訪問目的[集金]\"],\n",
    "        row[\"訪問目的[引き取り]\"],\n",
    "        row[\"訪問目的[納品・配達]\"],\n",
    "        row[\"訪問目的[クレーム対応]\"],\n",
    "        row[\"成果・その他コメント\"]\n",
    "    )\n",
    "    records.append(record)\n",
    "    if index > 5:\n",
    "        break"
   ]
  },
  {
   "cell_type": "code",
   "execution_count": 47,
   "id": "8e4d641b-6f22-4fc1-aa1a-a2de3b70e116",
   "metadata": {},
   "outputs": [
    {
     "name": "stdout",
     "output_type": "stream",
     "text": [
      "[Record(date='2023/10/19', start_time='13:00', end_time='14:00', action_kind='(既存)得意先', customer_code=65006, customer_name='ホソカワミクロン㈱', reason_sales=nan, reason_greeting=1.0, reason_accompany=nan, reason_digging=nan, reason_collection=nan, reason_collection_item=nan, reason_collection_delivery=nan, reason_claim=nan, achievements='0'), Record(date='2023/10/17', start_time='16:00', end_time='17:00', action_kind='(既存)得意先', customer_code=113001, customer_name='㈱ＵＥＸ\\u3000大阪支店', reason_sales=nan, reason_greeting=1.0, reason_accompany=nan, reason_digging=nan, reason_collection=nan, reason_collection_item=nan, reason_collection_delivery=nan, reason_claim=nan, achievements='来客'), Record(date='2023/10/11', start_time='13:00', end_time='14:00', action_kind='(既存)得意先', customer_code=44007, customer_name='貞徳舎㈱', reason_sales=nan, reason_greeting=1.0, reason_accompany=nan, reason_digging=nan, reason_collection=nan, reason_collection_item=nan, reason_collection_delivery=nan, reason_claim=nan, achievements='0'), Record(date='2023/10/6', start_time='13:00', end_time='14:00', action_kind='(既存)得意先', customer_code=4120, customer_name='㈱ダイヒ', reason_sales=1.0, reason_greeting=nan, reason_accompany=nan, reason_digging=nan, reason_collection=nan, reason_collection_item=nan, reason_collection_delivery=nan, reason_claim=nan, achievements='商況確認と価格情報の提示'), Record(date='2023/10/5', start_time='13:30', end_time='14:30', action_kind='(既存)得意先', customer_code=62010, customer_name='㈱HINO-TEC', reason_sales=nan, reason_greeting=1.0, reason_accompany=nan, reason_digging=nan, reason_collection=nan, reason_collection_item=nan, reason_collection_delivery=nan, reason_claim=nan, achievements='アンケート'), Record(date='2023/10/5', start_time='11:00', end_time='11:30', action_kind='(既存)得意先', customer_code=1224, customer_name='Ｉ・Ｔ・Ｏ㈱', reason_sales=1.0, reason_greeting=nan, reason_accompany=nan, reason_digging=nan, reason_collection=nan, reason_collection_item=nan, reason_collection_delivery=nan, reason_claim=nan, achievements='商況確認'), Record(date='2023/10/5', start_time='11:30', end_time='12:00', action_kind='(既存)得意先', customer_code=1225, customer_name='伊吹建設工業㈱', reason_sales=1.0, reason_greeting=nan, reason_accompany=nan, reason_digging=nan, reason_collection=nan, reason_collection_item=nan, reason_collection_delivery=nan, reason_claim=nan, achievements='商況確認')]\n"
     ]
    }
   ],
   "source": [
    "print(records)"
   ]
  },
  {
   "cell_type": "code",
   "execution_count": null,
   "id": "dca92ebb-bed7-4fd8-b922-a753e1b5ee88",
   "metadata": {},
   "outputs": [],
   "source": []
  }
 ],
 "metadata": {
  "kernelspec": {
   "display_name": "Python 3 (ipykernel)",
   "language": "python",
   "name": "python3"
  },
  "language_info": {
   "codemirror_mode": {
    "name": "ipython",
    "version": 3
   },
   "file_extension": ".py",
   "mimetype": "text/x-python",
   "name": "python",
   "nbconvert_exporter": "python",
   "pygments_lexer": "ipython3",
   "version": "3.9.18"
  }
 },
 "nbformat": 4,
 "nbformat_minor": 5
}
